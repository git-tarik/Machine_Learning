{
  "nbformat": 4,
  "nbformat_minor": 0,
  "metadata": {
    "colab": {
      "provenance": []
    },
    "kernelspec": {
      "name": "python3",
      "display_name": "Python 3"
    },
    "language_info": {
      "name": "python"
    }
  },
  "cells": [
    {
      "cell_type": "markdown",
      "source": [],
      "metadata": {
        "id": "fWe6HdYgrHtX"
      }
    },
    {
      "cell_type": "code",
      "execution_count": null,
      "metadata": {
        "id": "nalorj1LhbYo"
      },
      "outputs": [],
      "source": [
        "!mkdir -p ~/.kaggle\n",
        "!cp kaggle.json ~/.kaggle/\n",
        "!chmod 600 ~/.kaggle/kaggle.json\n"
      ]
    },
    {
      "cell_type": "markdown",
      "source": [
        "#### Explanation\n",
        "This cell sets up the environment to use the Kaggle API.\n",
        "\n",
        "1.  `!mkdir -p ~/.kaggle`: This command creates a directory named `.kaggle` in the user's home directory (`~`). The Kaggle API client looks for configuration files in this specific location. The `-p` flag ensures that the command doesn't produce an error if the directory already exists.\n",
        "2.  `!cp kaggle.json ~/.kaggle/`: This command copies the `kaggle.json` file into the `~/.kaggle` directory. This JSON file contains your Kaggle API credentials (username and key), which are necessary to authenticate and interact with Kaggle's services. You must upload your `kaggle.json` file to the Colab environment before running this cell.\n",
        "3.  `!chmod 600 ~/.kaggle/kaggle.json`: This command changes the file permissions of `kaggle.json` to `600`. This is a security best practice that makes the file readable and writable only by the owner, protecting your secret API key from being accessed by others."
      ],
      "metadata": {
        "id": "HHcRb-D9r91d"
      }
    },
    {
      "cell_type": "code",
      "source": [
        "! kaggle kernels pull akshita72/hand-gesture-recognition-from-emg-signals"
      ],
      "metadata": {
        "colab": {
          "base_uri": "https://localhost:8080/"
        },
        "id": "YZ7-WKT8m1_Q",
        "outputId": "d8715a21-da07-4097-ba2d-b95032f34213"
      },
      "execution_count": null,
      "outputs": [
        {
          "output_type": "stream",
          "name": "stdout",
          "text": [
            "Source code downloaded to /content/hand-gesture-recognition-from-emg-signals.ipynb\n"
          ]
        }
      ]
    },
    {
      "cell_type": "markdown",
      "source": [
        "#### Explanation\n",
        "This cell uses the Kaggle command-line interface (CLI) to download the source code of a specific Kaggle Notebook (also known as a Kernel).\n",
        "\n",
        "*   `! kaggle kernels pull`: This is the command to fetch a notebook from Kaggle.\n",
        "*   `akshita72/hand-gesture-recognition-from-emg-signals`: This is the unique identifier for the target notebook, specified in the format `username/kernel-slug`.\n",
        "\n",
        "After execution, the notebook file `hand-gesture-recognition-from-emg-signals.ipynb` is downloaded into the current working directory (`/content/`)."
      ],
      "metadata": {
        "id": "BE_76UnFsAVX"
      }
    }
  ]
}