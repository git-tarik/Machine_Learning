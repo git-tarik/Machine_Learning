{
  "nbformat": 4,
  "nbformat_minor": 0,
  "metadata": {
    "colab": {
      "provenance": []
    },
    "kernelspec": {
      "name": "python3",
      "display_name": "Python 3"
    },
    "language_info": {
      "name": "python"
    }
  },
  "cells": [
    {
      "cell_type": "code",
      "execution_count": null,
      "metadata": {
        "id": "lrDCTB09iicT"
      },
      "outputs": [],
      "source": [
        "import numpy as np"
      ]
    },
    {
      "cell_type": "markdown",
      "source": [
        "#### Explanation\n",
        "This cell imports the NumPy library, which is a fundamental package for scientific and numerical computing in Python. It is conventionally imported with the alias `np` to make it easier and faster to use its functions."
      ],
      "metadata": {
        "id": "k6P-3VZdVN5A"
      }
    },
    {
      "cell_type": "code",
      "source": [
        "a = np.array(5)"
      ],
      "metadata": {
        "id": "x0Tv5MwVi23T"
      },
      "execution_count": null,
      "outputs": []
    },
    {
      "cell_type": "markdown",
      "source": [
        "#### Explanation\n",
        "This cell creates a NumPy array named `a` containing a single value, `5`. When a single number is passed to `np.array()`, it creates a 0-dimensional array, which is also known as a scalar or a rank-0 tensor."
      ],
      "metadata": {
        "id": "T0ein_LOVWu4"
      }
    },
    {
      "cell_type": "code",
      "source": [
        "a"
      ],
      "metadata": {
        "colab": {
          "base_uri": "https://localhost:8080/"
        },
        "id": "lX-GoSbDi_jc",
        "outputId": "9f9ac36a-8745-43f4-ea20-360c899a461a"
      },
      "execution_count": null,
      "outputs": [
        {
          "output_type": "execute_result",
          "data": {
            "text/plain": [
              "array(5)"
            ]
          },
          "metadata": {},
          "execution_count": 8
        }
      ]
    },
    {
      "cell_type": "markdown",
      "source": [
        "#### Explanation\n",
        "This cell displays the content of the variable `a`. The output `array(5)` confirms that it is a NumPy array holding the value 5."
      ],
      "metadata": {
        "id": "nCBRQrnKVcnw"
      }
    },
    {
      "cell_type": "code",
      "source": [
        "a.ndim"
      ],
      "metadata": {
        "colab": {
          "base_uri": "https://localhost:8080/"
        },
        "id": "TtxJHoeTkDBa",
        "outputId": "b05214c0-848a-4748-ea74-eb826e9bce61"
      },
      "execution_count": null,
      "outputs": [
        {
          "output_type": "execute_result",
          "data": {
            "text/plain": [
              "0"
            ]
          },
          "metadata": {},
          "execution_count": 9
        }
      ]
    },
    {
      "cell_type": "markdown",
      "source": [
        "#### Explanation\n",
        "This cell uses the `.ndim` attribute to check the number of dimensions (or axes) of the NumPy array `a`. The output `0` confirms that `a` is a 0-dimensional array (a scalar)."
      ],
      "metadata": {
        "id": "7toxHwduVo6x"
      }
    },
    {
      "cell_type": "code",
      "source": [
        "arr = np.array([1,2,3,4])"
      ],
      "metadata": {
        "id": "eMkmdOukkex-"
      },
      "execution_count": null,
      "outputs": []
    },
    {
      "cell_type": "markdown",
      "source": [
        "#### Explanation\n",
        "This cell creates a 1-dimensional NumPy array from a Python list `[1, 2, 3, 4]`. This type of array is also known as a vector or a rank-1 tensor. The array is assigned to the variable `arr`."
      ],
      "metadata": {
        "id": "xeS0KeZuWBDJ"
      }
    },
    {
      "cell_type": "code",
      "source": [
        "arr"
      ],
      "metadata": {
        "colab": {
          "base_uri": "https://localhost:8080/"
        },
        "id": "a0yUJMfPklrQ",
        "outputId": "f73ffc01-ced8-4c40-8e72-d670367cc77b"
      },
      "execution_count": null,
      "outputs": [
        {
          "output_type": "execute_result",
          "data": {
            "text/plain": [
              "array([1, 2, 3, 4])"
            ]
          },
          "metadata": {},
          "execution_count": 11
        }
      ]
    },
    {
      "cell_type": "markdown",
      "source": [
        "#### Explanation\n",
        "This cell displays the content of the array `arr`, showing the elements `[1, 2, 3, 4]`."
      ],
      "metadata": {
        "id": "467KDT2jWH5o"
      }
    },
    {
      "cell_type": "code",
      "source": [
        "arr.ndim"
      ],
      "metadata": {
        "colab": {
          "base_uri": "https://localhost:8080/"
        },
        "id": "J3Dw_wNPknq3",
        "outputId": "e1c17f95-e8fc-48e7-d5b2-1386f1803390"
      },
      "execution_count": null,
      "outputs": [
        {
          "output_type": "execute_result",
          "data": {
            "text/plain": [
              "1"
            ]
          },
          "metadata": {},
          "execution_count": 12
        }
      ]
    },
    {
      "cell_type": "markdown",
      "source": [
        "#### Explanation\n",
        "This cell checks the number of dimensions of the array `arr` using the `.ndim` attribute. The output `1` confirms that `arr` is a 1-dimensional array.\n"
      ],
      "metadata": {
        "id": "Vi8fHJanWQfA"
      }
    },
    {
      "cell_type": "code",
      "source": [
        "mat = np.array([[1,2,3],[4,5,6],[7,8,9]])"
      ],
      "metadata": {
        "id": "KwUel4PZlTLZ"
      },
      "execution_count": null,
      "outputs": []
    },
    {
      "cell_type": "markdown",
      "source": [
        "#### Explanation\n",
        "This cell creates a 2-dimensional NumPy array from a list of lists. Each inner list represents a row in the array. This structure is also known as a matrix or a rank-2 tensor. The resulting 3x3 matrix is assigned to the variable `mat`."
      ],
      "metadata": {
        "id": "ALy-wa_1WVFQ"
      }
    },
    {
      "cell_type": "code",
      "source": [
        "mat"
      ],
      "metadata": {
        "colab": {
          "base_uri": "https://localhost:8080/"
        },
        "id": "-U3vM8aZlseY",
        "outputId": "333a321b-94a1-4766-f210-2e824ed67657"
      },
      "execution_count": null,
      "outputs": [
        {
          "output_type": "execute_result",
          "data": {
            "text/plain": [
              "array([[1, 2, 3],\n",
              "       [4, 5, 6],\n",
              "       [7, 8, 9]])"
            ]
          },
          "metadata": {},
          "execution_count": 18
        }
      ]
    },
    {
      "cell_type": "markdown",
      "source": [
        "#### Explanation\n",
        "This cell displays the content of the `mat` variable, showing the 3x3 matrix."
      ],
      "metadata": {
        "id": "vLvrV8VLWtnP"
      }
    },
    {
      "cell_type": "code",
      "source": [
        "mat.ndim"
      ],
      "metadata": {
        "colab": {
          "base_uri": "https://localhost:8080/"
        },
        "id": "pfZDIqgilvuV",
        "outputId": "9e510c74-3be5-481c-a4ff-25484097e4cd"
      },
      "execution_count": null,
      "outputs": [
        {
          "output_type": "execute_result",
          "data": {
            "text/plain": [
              "2"
            ]
          },
          "metadata": {},
          "execution_count": 19
        }
      ]
    },
    {
      "cell_type": "markdown",
      "source": [
        "#### Explanation\n",
        "This cell checks the number of dimensions of the array `mat` using the `.ndim` attribute. The output `2` confirms that `mat` is a 2-dimensional array."
      ],
      "metadata": {
        "id": "b6gux-yuW9Wf"
      }
    }
  ]
}